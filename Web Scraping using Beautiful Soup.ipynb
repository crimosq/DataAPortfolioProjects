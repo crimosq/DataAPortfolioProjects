{
 "cells": [
  {
   "cell_type": "code",
   "execution_count": 3,
   "id": "2e024ded",
   "metadata": {},
   "outputs": [],
   "source": [
    "# importing modules (pandas, numpy, matplotlib.pyplot, seaborn\n",
    "import pandas as pd\n",
    "import numpy as np\n",
    "import matplotlib.pyplot as plt\n",
    "import seaborn as sns\n",
    "%matplotlib inline\n"
   ]
  },
  {
   "cell_type": "code",
   "execution_count": 4,
   "id": "3bc464a7",
   "metadata": {},
   "outputs": [],
   "source": [
    "#importing libraries\n",
    "\n",
    "from urllib.request import urlopen\n",
    "from bs4 import BeautifulSoup"
   ]
  },
  {
   "cell_type": "code",
   "execution_count": 5,
   "id": "808bab50",
   "metadata": {},
   "outputs": [],
   "source": [
    "#url datset and passing it to uropen() to get html of page\n",
    "\n",
    "url=\"http://www.hubertiming.com/results/2017GPTR10K\"\n",
    "html =urlopen(url)"
   ]
  },
  {
   "cell_type": "code",
   "execution_count": 6,
   "id": "b07045c4",
   "metadata": {},
   "outputs": [
    {
     "data": {
      "text/plain": [
       "bs4.BeautifulSoup"
      ]
     },
     "execution_count": 6,
     "metadata": {},
     "output_type": "execute_result"
    }
   ],
   "source": [
    "#Passing html to the BeautifulSoup() function\n",
    "soup = BeautifulSoup(html, 'lxml')\n",
    "type(soup)\n"
   ]
  },
  {
   "cell_type": "code",
   "execution_count": 15,
   "id": "befb93d2",
   "metadata": {},
   "outputs": [
    {
     "name": "stdout",
     "output_type": "stream",
     "text": [
      "<title>Race results for the 2017 Intel Great Place to Run \\ Urban Clash Games!</title>\n"
     ]
    }
   ],
   "source": [
    "#Get the title\n",
    "\n",
    "title = soup.title\n",
    "print(title)"
   ]
  },
  {
   "cell_type": "code",
   "execution_count": 17,
   "id": "9b88315e",
   "metadata": {},
   "outputs": [],
   "source": [
    "#Print out the text\n",
    "text = soup.get_text()"
   ]
  },
  {
   "cell_type": "code",
   "execution_count": 18,
   "id": "de420374",
   "metadata": {},
   "outputs": [
    {
     "data": {
      "text/plain": [
       "[<a href=\"mailto:timing@hubertiming.com\">timing@hubertiming.com</a>,\n",
       " <a href=\"https://www.hubertiming.com\">Huber Timing Home</a>,\n",
       " <a class=\"btn btn-primary btn-lg\" href=\"/results/2017GPTR\" role=\"button\" style=\"margin: 0px 0px 5px 5px\"><i aria-hidden=\"true\" class=\"fa fa-user\"></i> 5K Individual</a>,\n",
       " <a class=\"btn btn-primary btn-lg\" href=\"/results/team/2017GPTR\" role=\"button\" style=\"margin: 0px 0px 5px 5px\"><i aria-hidden=\"true\" class=\"fa fa-users\"></i> 5K Team</a>,\n",
       " <a class=\"btn btn-primary btn-lg\" href=\"/results/team/2017GPTR10K\" role=\"button\" style=\"margin: 0px 0px 5px 5px\"><i aria-hidden=\"true\" class=\"fa fa-users\"></i> 10K Team</a>,\n",
       " <a class=\"btn btn-primary btn-lg\" href=\"/results/summary/2017GPTR10K\" role=\"button\" style=\"margin: 0px 0px 5px 5px\"><i class=\"fa fa-stream\"></i> Summary</a>,\n",
       " <a id=\"individual\" name=\"individual\"></a>,\n",
       " <a data-url=\"/results/2017GPTR10K\" href=\"#tabs-1\" id=\"rootTab\" style=\"font-size: 18px\">10K Results</a>,\n",
       " <a href=\"https://www.hubertiming.com/\"><img height=\"65\" src=\"https://www.hubertiming.com//sites/all/themes/hubertiming/images/clockWithFinishSign_small.png\" width=\"50\"/>Huber Timing</a>,\n",
       " <a href=\"https://facebook.com/hubertiming/\"><img src=\"https://www.hubertiming.com/results/FB-f-Logo__blue_50.png\"/></a>,\n",
       " <a class=\"small\" id=\"bestFeatureEver\" style=\"color:#007bff\">Dark Mode</a>]"
      ]
     },
     "execution_count": 18,
     "metadata": {},
     "output_type": "execute_result"
    }
   ],
   "source": [
    "soup.find_all('a')"
   ]
  },
  {
   "cell_type": "code",
   "execution_count": 19,
   "id": "fd5bdb44",
   "metadata": {},
   "outputs": [
    {
     "name": "stdout",
     "output_type": "stream",
     "text": [
      "mailto:timing@hubertiming.com\n",
      "https://www.hubertiming.com\n",
      "/results/2017GPTR\n",
      "/results/team/2017GPTR\n",
      "/results/team/2017GPTR10K\n",
      "/results/summary/2017GPTR10K\n",
      "None\n",
      "#tabs-1\n",
      "https://www.hubertiming.com/\n",
      "https://facebook.com/hubertiming/\n",
      "None\n"
     ]
    }
   ],
   "source": [
    "#for loop to get ('href') method to extract & only print out hyperlinks\n",
    "all_links = soup.find_all('a')\n",
    "for link in all_links:\n",
    "    print(link.get('href'))\n",
    "    "
   ]
  },
  {
   "cell_type": "code",
   "execution_count": 20,
   "id": "f5d94810",
   "metadata": {},
   "outputs": [
    {
     "name": "stdout",
     "output_type": "stream",
     "text": [
      "[<tr colspan=\"2\">\n",
      "<b>10K:</b>\n",
      "</tr>, <tr>\n",
      "<td>Finishers:</td>\n",
      "<td>577</td>\n",
      "</tr>, <tr>\n",
      "<td>Male:</td>\n",
      "<td>414</td>\n",
      "</tr>, <tr>\n",
      "<td>Female:</td>\n",
      "<td>163</td>\n",
      "</tr>, <tr class=\"header\">\n",
      "<th>Place</th>\n",
      "<th>Bib</th>\n",
      "<th>Name</th>\n",
      "<th>Gender</th>\n",
      "<th>City</th>\n",
      "<th>State</th>\n",
      "<th>Chip Time</th>\n",
      "<th>Gun Time</th>\n",
      "<th>Team</th>\n",
      "</tr>, <tr data-bib=\"814\">\n",
      "<td>1</td>\n",
      "<td>814</td>\n",
      "<td>\r\n",
      "\r\n",
      "                    JARED WILSON\r\n",
      "\r\n",
      "                </td>\n",
      "<td>M</td>\n",
      "<td>TIGARD</td>\n",
      "<td>OR</td>\n",
      "<td>36:21</td>\n",
      "<td>36:24</td>\n",
      "<td></td>\n",
      "</tr>, <tr data-bib=\"573\">\n",
      "<td>2</td>\n",
      "<td>573</td>\n",
      "<td>\r\n",
      "\r\n",
      "                    NATHAN A SUSTERSIC\r\n",
      "\r\n",
      "                </td>\n",
      "<td>M</td>\n",
      "<td>PORTLAND</td>\n",
      "<td>OR</td>\n",
      "<td>36:42</td>\n",
      "<td>36:45</td>\n",
      "<td>\n",
      "<img class=\"lazy teamThumbs\" data-src=\"/teamLogoThumbnail/logo?teamName=INTEL%20TEAM%20F&amp;raceId=1251&amp;state=OR\"/>\r\n",
      "                            INTEL TEAM F\r\n",
      "                        </td>\n",
      "</tr>, <tr data-bib=\"687\">\n",
      "<td>3</td>\n",
      "<td>687</td>\n",
      "<td>\r\n",
      "\r\n",
      "                    FRANCISCO MAYA\r\n",
      "\r\n",
      "                </td>\n",
      "<td>M</td>\n",
      "<td>PORTLAND</td>\n",
      "<td>OR</td>\n",
      "<td>37:44</td>\n",
      "<td>37:48</td>\n",
      "<td></td>\n",
      "</tr>, <tr data-bib=\"623\">\n",
      "<td>4</td>\n",
      "<td>623</td>\n",
      "<td>\r\n",
      "\r\n",
      "                    PAUL MORROW\r\n",
      "\r\n",
      "                </td>\n",
      "<td>M</td>\n",
      "<td>BEAVERTON</td>\n",
      "<td>OR</td>\n",
      "<td>38:34</td>\n",
      "<td>38:37</td>\n",
      "<td></td>\n",
      "</tr>, <tr data-bib=\"569\">\n",
      "<td>5</td>\n",
      "<td>569</td>\n",
      "<td>\r\n",
      "\r\n",
      "                    DEREK G OSBORNE\r\n",
      "\r\n",
      "                </td>\n",
      "<td>M</td>\n",
      "<td>HILLSBORO</td>\n",
      "<td>OR</td>\n",
      "<td>39:21</td>\n",
      "<td>39:24</td>\n",
      "<td>\n",
      "<img class=\"lazy teamThumbs\" data-src=\"/teamLogoThumbnail/logo?teamName=INTEL%20TEAM%20F&amp;raceId=1251&amp;state=OR\"/>\r\n",
      "                            INTEL TEAM F\r\n",
      "                        </td>\n",
      "</tr>]\n"
     ]
    }
   ],
   "source": [
    "#print out table rows only, pass the 'tr' argument in soup.find_all()\n",
    "\n",
    "rows = soup.find_all(\"tr\")\n",
    "print(rows[:10])"
   ]
  },
  {
   "cell_type": "code",
   "execution_count": 24,
   "id": "f66563d2",
   "metadata": {},
   "outputs": [
    {
     "name": "stdout",
     "output_type": "stream",
     "text": [
      "[<td>577</td>, <td>443</td>, <td>\r\n",
      "\r\n",
      "                    LIBBY B MITCHELL\r\n",
      "\r\n",
      "                </td>, <td>F</td>, <td>HILLSBORO</td>, <td>OR</td>, <td>1:41:18</td>, <td>1:42:10</td>, <td></td>]\n"
     ]
    },
    {
     "data": {
      "text/plain": [
       "bs4.element.ResultSet"
      ]
     },
     "execution_count": 24,
     "metadata": {},
     "output_type": "execute_result"
    }
   ],
   "source": [
    "# for loop that iterates through table rows and prints out the cells of rows\n",
    "\n",
    "for row in rows:\n",
    "    row_td = row.find_all('td')\n",
    "print(row_td)\n",
    "type(row_td)\n",
    "\n"
   ]
  },
  {
   "cell_type": "code",
   "execution_count": 23,
   "id": "020846a1",
   "metadata": {},
   "outputs": [
    {
     "name": "stdout",
     "output_type": "stream",
     "text": [
      "[577, 443, \r\n",
      "\r\n",
      "                    LIBBY B MITCHELL\r\n",
      "\r\n",
      "                , F, HILLSBORO, OR, 1:41:18, 1:42:10, ]\n"
     ]
    }
   ],
   "source": [
    "#BeutifulSoup() & get_text() method to extract the text without html tags\n",
    "\n",
    "str_cells = str(row_td)\n",
    "cleantext = BeautifulSoup(str_cells, \"lxml\").get_text()\n",
    "print(cleantext)"
   ]
  },
  {
   "cell_type": "code",
   "execution_count": 25,
   "id": "dbd4dd5c",
   "metadata": {},
   "outputs": [
    {
     "name": "stdout",
     "output_type": "stream",
     "text": [
      "[577, 443, \r\n",
      "\r\n",
      "                    LIBBY B MITCHELL\r\n",
      "\r\n",
      "                , F, HILLSBORO, OR, 1:41:18, 1:42:10, ]\n"
     ]
    },
    {
     "data": {
      "text/plain": [
       "str"
      ]
     },
     "execution_count": 25,
     "metadata": {},
     "output_type": "execute_result"
    }
   ],
   "source": [
    "#generates an empty listt, extracts text between html tags for each row and append it to assigned list\n",
    "\n",
    "import re\n",
    "\n",
    "list_rows = []\n",
    "for row in rows:\n",
    "    cells = row.find_all('td')\n",
    "    str_cells = str(cells)\n",
    "    clean = re.compile('<.*?>')\n",
    "    clean2 = (re.sub(clean,'', str_cells))\n",
    "    list_rows.append(clean2)\n",
    "print(clean2)\n",
    "type(clean2)"
   ]
  },
  {
   "cell_type": "code",
   "execution_count": 30,
   "id": "5cdf83f0",
   "metadata": {},
   "outputs": [
    {
     "data": {
      "text/html": [
       "<div>\n",
       "<style scoped>\n",
       "    .dataframe tbody tr th:only-of-type {\n",
       "        vertical-align: middle;\n",
       "    }\n",
       "\n",
       "    .dataframe tbody tr th {\n",
       "        vertical-align: top;\n",
       "    }\n",
       "\n",
       "    .dataframe thead th {\n",
       "        text-align: right;\n",
       "    }\n",
       "</style>\n",
       "<table border=\"1\" class=\"dataframe\">\n",
       "  <thead>\n",
       "    <tr style=\"text-align: right;\">\n",
       "      <th></th>\n",
       "      <th>0</th>\n",
       "    </tr>\n",
       "  </thead>\n",
       "  <tbody>\n",
       "    <tr>\n",
       "      <th>0</th>\n",
       "      <td>[]</td>\n",
       "    </tr>\n",
       "    <tr>\n",
       "      <th>1</th>\n",
       "      <td>[Finishers:, 577]</td>\n",
       "    </tr>\n",
       "    <tr>\n",
       "      <th>2</th>\n",
       "      <td>[Male:, 414]</td>\n",
       "    </tr>\n",
       "    <tr>\n",
       "      <th>3</th>\n",
       "      <td>[Female:, 163]</td>\n",
       "    </tr>\n",
       "    <tr>\n",
       "      <th>4</th>\n",
       "      <td>[]</td>\n",
       "    </tr>\n",
       "    <tr>\n",
       "      <th>5</th>\n",
       "      <td>[1, 814, \\r\\n\\r\\n                    JARED WIL...</td>\n",
       "    </tr>\n",
       "    <tr>\n",
       "      <th>6</th>\n",
       "      <td>[2, 573, \\r\\n\\r\\n                    NATHAN A ...</td>\n",
       "    </tr>\n",
       "    <tr>\n",
       "      <th>7</th>\n",
       "      <td>[3, 687, \\r\\n\\r\\n                    FRANCISCO...</td>\n",
       "    </tr>\n",
       "    <tr>\n",
       "      <th>8</th>\n",
       "      <td>[4, 623, \\r\\n\\r\\n                    PAUL MORR...</td>\n",
       "    </tr>\n",
       "    <tr>\n",
       "      <th>9</th>\n",
       "      <td>[5, 569, \\r\\n\\r\\n                    DEREK G O...</td>\n",
       "    </tr>\n",
       "    <tr>\n",
       "      <th>10</th>\n",
       "      <td>[6, 642, \\r\\n\\r\\n                    JONATHON ...</td>\n",
       "    </tr>\n",
       "  </tbody>\n",
       "</table>\n",
       "</div>"
      ],
      "text/plain": [
       "                                                    0\n",
       "0                                                  []\n",
       "1                                   [Finishers:, 577]\n",
       "2                                        [Male:, 414]\n",
       "3                                      [Female:, 163]\n",
       "4                                                  []\n",
       "5   [1, 814, \\r\\n\\r\\n                    JARED WIL...\n",
       "6   [2, 573, \\r\\n\\r\\n                    NATHAN A ...\n",
       "7   [3, 687, \\r\\n\\r\\n                    FRANCISCO...\n",
       "8   [4, 623, \\r\\n\\r\\n                    PAUL MORR...\n",
       "9   [5, 569, \\r\\n\\r\\n                    DEREK G O...\n",
       "10  [6, 642, \\r\\n\\r\\n                    JONATHON ..."
      ]
     },
     "execution_count": 30,
     "metadata": {},
     "output_type": "execute_result"
    }
   ],
   "source": [
    "#converting list into a dataframe using Pandas\n",
    "df = pd.DataFrame(list_rows)\n",
    "df.head(11)"
   ]
  },
  {
   "cell_type": "code",
   "execution_count": null,
   "id": "3b18ebab",
   "metadata": {},
   "outputs": [],
   "source": []
  }
 ],
 "metadata": {
  "kernelspec": {
   "display_name": "Python 3 (ipykernel)",
   "language": "python",
   "name": "python3"
  },
  "language_info": {
   "codemirror_mode": {
    "name": "ipython",
    "version": 3
   },
   "file_extension": ".py",
   "mimetype": "text/x-python",
   "name": "python",
   "nbconvert_exporter": "python",
   "pygments_lexer": "ipython3",
   "version": "3.9.13"
  }
 },
 "nbformat": 4,
 "nbformat_minor": 5
}
